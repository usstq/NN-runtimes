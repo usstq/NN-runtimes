{
 "cells": [
  {
   "cell_type": "markdown",
   "metadata": {},
   "source": [
    "# Play with OpenVINO in jupyter notebook\n",
    "\n",
    "Enviroment setup is done as described in [here](./enable_openvino_in_jupyter.md)\n",
    "\n",
    " - C++: src/inference/src/ie_core.cpp\n",
    " - Python: src/bindings/python/src/pyopenvino/core/core.cpp\n"
   ]
  },
  {
   "cell_type": "code",
   "execution_count": 1,
   "metadata": {},
   "outputs": [
    {
     "data": {
      "text/html": [
       "<div>\n",
       "<style scoped>\n",
       "    .dataframe tbody tr th:only-of-type {\n",
       "        vertical-align: middle;\n",
       "    }\n",
       "\n",
       "    .dataframe tbody tr th {\n",
       "        vertical-align: top;\n",
       "    }\n",
       "\n",
       "    .dataframe thead th {\n",
       "        text-align: right;\n",
       "    }\n",
       "</style>\n",
       "<table border=\"1\" class=\"dataframe\">\n",
       "  <thead>\n",
       "    <tr style=\"text-align: right;\">\n",
       "      <th></th>\n",
       "      <th>0</th>\n",
       "      <th>1</th>\n",
       "      <th>2</th>\n",
       "      <th>3</th>\n",
       "    </tr>\n",
       "  </thead>\n",
       "  <tbody>\n",
       "    <tr>\n",
       "      <th>0</th>\n",
       "      <td>CPU</td>\n",
       "      <td>openvino_intel_cpu_plugin</td>\n",
       "      <td>2022.1</td>\n",
       "      <td>None</td>\n",
       "    </tr>\n",
       "    <tr>\n",
       "      <th>1</th>\n",
       "      <td>...</td>\n",
       "      <td>SUPPORTED_PROPERTIES</td>\n",
       "      <td>RO</td>\n",
       "      <td>{'SUPPORTED_PROPERTIES': 'RO', 'AVAILABLE_DEVI...</td>\n",
       "    </tr>\n",
       "    <tr>\n",
       "      <th>2</th>\n",
       "      <td>...</td>\n",
       "      <td>AVAILABLE_DEVICES</td>\n",
       "      <td>RO</td>\n",
       "      <td>[]</td>\n",
       "    </tr>\n",
       "    <tr>\n",
       "      <th>3</th>\n",
       "      <td>...</td>\n",
       "      <td>RANGE_FOR_ASYNC_INFER_REQUESTS</td>\n",
       "      <td>RO</td>\n",
       "      <td>(1, 1, 1)</td>\n",
       "    </tr>\n",
       "    <tr>\n",
       "      <th>4</th>\n",
       "      <td>...</td>\n",
       "      <td>RANGE_FOR_STREAMS</td>\n",
       "      <td>RO</td>\n",
       "      <td>(1, 88)</td>\n",
       "    </tr>\n",
       "    <tr>\n",
       "      <th>5</th>\n",
       "      <td>...</td>\n",
       "      <td>FULL_DEVICE_NAME</td>\n",
       "      <td>RO</td>\n",
       "      <td>Intel(R) Xeon(R) CPU E5-2699 v4 @ 2.20GHz</td>\n",
       "    </tr>\n",
       "    <tr>\n",
       "      <th>6</th>\n",
       "      <td>...</td>\n",
       "      <td>OPTIMIZATION_CAPABILITIES</td>\n",
       "      <td>RO</td>\n",
       "      <td>[FP32, FP16, INT8, BIN, IMPORT_EXPORT]</td>\n",
       "    </tr>\n",
       "    <tr>\n",
       "      <th>7</th>\n",
       "      <td>...</td>\n",
       "      <td>NUM_STREAMS</td>\n",
       "      <td>RW</td>\n",
       "      <td>1</td>\n",
       "    </tr>\n",
       "    <tr>\n",
       "      <th>8</th>\n",
       "      <td>...</td>\n",
       "      <td>AFFINITY</td>\n",
       "      <td>RW</td>\n",
       "      <td>(ERROR)</td>\n",
       "    </tr>\n",
       "    <tr>\n",
       "      <th>9</th>\n",
       "      <td>...</td>\n",
       "      <td>INFERENCE_NUM_THREADS</td>\n",
       "      <td>RW</td>\n",
       "      <td>0</td>\n",
       "    </tr>\n",
       "    <tr>\n",
       "      <th>10</th>\n",
       "      <td>...</td>\n",
       "      <td>PERF_COUNT</td>\n",
       "      <td>RW</td>\n",
       "      <td>False</td>\n",
       "    </tr>\n",
       "    <tr>\n",
       "      <th>11</th>\n",
       "      <td>...</td>\n",
       "      <td>INFERENCE_PRECISION_HINT</td>\n",
       "      <td>RW</td>\n",
       "      <td>(ERROR)</td>\n",
       "    </tr>\n",
       "    <tr>\n",
       "      <th>12</th>\n",
       "      <td>...</td>\n",
       "      <td>PERFORMANCE_HINT</td>\n",
       "      <td>RW</td>\n",
       "      <td>(ERROR)</td>\n",
       "    </tr>\n",
       "    <tr>\n",
       "      <th>13</th>\n",
       "      <td>...</td>\n",
       "      <td>PERFORMANCE_HINT_NUM_REQUESTS</td>\n",
       "      <td>RW</td>\n",
       "      <td>0</td>\n",
       "    </tr>\n",
       "  </tbody>\n",
       "</table>\n",
       "</div>"
      ],
      "text/plain": [
       "      0                               1       2  \\\n",
       "0   CPU       openvino_intel_cpu_plugin  2022.1   \n",
       "1   ...            SUPPORTED_PROPERTIES      RO   \n",
       "2   ...               AVAILABLE_DEVICES      RO   \n",
       "3   ...  RANGE_FOR_ASYNC_INFER_REQUESTS      RO   \n",
       "4   ...               RANGE_FOR_STREAMS      RO   \n",
       "5   ...                FULL_DEVICE_NAME      RO   \n",
       "6   ...       OPTIMIZATION_CAPABILITIES      RO   \n",
       "7   ...                     NUM_STREAMS      RW   \n",
       "8   ...                        AFFINITY      RW   \n",
       "9   ...           INFERENCE_NUM_THREADS      RW   \n",
       "10  ...                      PERF_COUNT      RW   \n",
       "11  ...        INFERENCE_PRECISION_HINT      RW   \n",
       "12  ...                PERFORMANCE_HINT      RW   \n",
       "13  ...   PERFORMANCE_HINT_NUM_REQUESTS      RW   \n",
       "\n",
       "                                                    3  \n",
       "0                                                None  \n",
       "1   {'SUPPORTED_PROPERTIES': 'RO', 'AVAILABLE_DEVI...  \n",
       "2                                                  []  \n",
       "3                                           (1, 1, 1)  \n",
       "4                                             (1, 88)  \n",
       "5           Intel(R) Xeon(R) CPU E5-2699 v4 @ 2.20GHz  \n",
       "6              [FP32, FP16, INT8, BIN, IMPORT_EXPORT]  \n",
       "7                                                   1  \n",
       "8                                             (ERROR)  \n",
       "9                                                   0  \n",
       "10                                              False  \n",
       "11                                            (ERROR)  \n",
       "12                                            (ERROR)  \n",
       "13                                                  0  "
      ]
     },
     "execution_count": 1,
     "metadata": {},
     "output_type": "execute_result"
    }
   ],
   "source": [
    "from openvino.preprocess import PrePostProcessor\n",
    "import openvino.runtime as ov\n",
    "import numpy as np\n",
    "import time\n",
    "from pandas import DataFrame\n",
    "from graphviz import Digraph, Source\n",
    "import ovhelper\n",
    "\n",
    "# this is top object\n",
    "core = ov.Core()\n",
    "\n",
    "proplist = []\n",
    "\n",
    "for id, dev in enumerate(core.available_devices):\n",
    "    v=core.get_versions(dev)[dev]\n",
    "    proplist.append([dev, v.description, \"{}.{}\".format(v.major, v.minor, v.build_number)])\n",
    "    SUPPORTED_PROPERTIES = core.get_property(dev, \"SUPPORTED_PROPERTIES\")\n",
    "    for prop, rw in SUPPORTED_PROPERTIES.items():\n",
    "        try:\n",
    "            value = core.get_property(dev, prop)\n",
    "        except:\n",
    "            value = \"(ERROR)\"\n",
    "        proplist.append([\"...\", prop, rw, value])\n",
    "df = DataFrame(proplist)\n",
    "df"
   ]
  },
  {
   "cell_type": "markdown",
   "metadata": {},
   "source": [
    "## Model description API\n",
    "\n",
    "ov.op/opset8/Model is for describing model using python. but this is not typical usage since openvino do not train NN.\n",
    "\n",
    " - src/bindings/python/src/pyopenvino/graph/node.cpp\n",
    " - src/core/src/model.cpp\n",
    " - src/bindings/python/src/pyopenvino/graph/model.cpp"
   ]
  },
  {
   "cell_type": "code",
   "execution_count": 2,
   "metadata": {},
   "outputs": [
    {
     "name": "stdout",
     "output_type": "stream",
     "text": [
      "param_node: <Parameter: 'Parameter_0' ({2,3,7,7}, float)>\n",
      "conv_node:<Convolution: 'Convolution_2' ({2,1,7,7})>\n",
      "maxpool_node:<MaxPool: 'MaxPool_3' ({2,1,2,2})>\n",
      "<Model: 'cnntest'\n",
      "inputs[\n",
      "<ConstOutput: names[Parameter_0] shape{2,3,7,7} type: f32>\n",
      "]\n",
      "outputs[\n",
      "<ConstOutput: names[] shape{8} type: f32>\n",
      "]>\n"
     ]
    }
   ],
   "source": [
    "# input\n",
    "input_shape = [2, 3, 7, 7]\n",
    "param_node = ov.op.Parameter(ov.Type.f32, ov.Shape(input_shape))\n",
    "print('param_node: {}'.format(param_node))\n",
    "\n",
    "# convolution weights in shape [out_channels, in_channels, kernel_height, kernel_width]\n",
    "padding_begin = padding_end = [0, 0]\n",
    "conv_kernel = ov.op.Constant(ov.Type.f32, ov.Shape([1,3,1,1]), np.ones([3]))\n",
    "conv_node = ov.opset8.convolution(param_node, conv_kernel, [1, 1], padding_begin, padding_end, [1, 1])\n",
    "\n",
    "# we can see shape inference happens immediatly\n",
    "print('conv_node:{}'.format(conv_node))\n",
    "\n",
    "maxpool_node = ov.opset1.max_pool(conv_node, [4, 4], padding_begin, padding_end, [4, 4], 'ceil')\n",
    "print('maxpool_node:{}'.format(maxpool_node))\n",
    "\n",
    "relu_node = ov.opset8.relu(maxpool_node)\n",
    "reshape_node = ov.opset8.reshape(relu_node, [-1], False)\n",
    "model = ov.Model(reshape_node, [param_node], 'cnntest')\n",
    "\n",
    "print(model)"
   ]
  },
  {
   "cell_type": "markdown",
   "metadata": {},
   "source": [
    "Here is a simple piece of code for examining the model in a human-friendly way, just like `onnx.helper.printable_graph()`:"
   ]
  },
  {
   "cell_type": "code",
   "execution_count": 3,
   "metadata": {},
   "outputs": [
    {
     "name": "stdout",
     "output_type": "stream",
     "text": [
      "model(Parameter_0):\n",
      "    Tensor<2x3x7x7xf32> t1 = Parameter_0(element_type=f32)\n",
      "    Tensor<1x3x1x1xf32> t2 = Constant_1(element_type=f32,shape=[1, 3, 1, 1])\n",
      "    Tensor<2x1x7x7xf32> t3 = Convolution_2(t1,t2,strides=[1, 1],dilations=[1, 1],pads_begin=[0, 0],pads_end=[0, 0],auto_pad=explicit)\n",
      "    Tensor<2x1x2x2xf32> t4 = MaxPool_3(t3,strides=[4, 4],pads_begin=[0, 0],pads_end=[0, 0],kernel=[4, 4],rounding_type=ceil,auto_pad=explicit)\n",
      "    Tensor<2x1x2x2xf32> t5 = Relu_4(t4)\n",
      "    Tensor<1xi64> t6 = Constant_5(element_type=i64,shape=[1])\n",
      "    Tensor<8xf32> t7 = Reshape_6(t5,t6,special_zero=False)\n",
      "    Tensor<8xf32> t8 = Result_12(t7)\n",
      "    return t8\n"
     ]
    }
   ],
   "source": [
    "ovhelper.print_model(model)"
   ]
  },
  {
   "cell_type": "markdown",
   "metadata": {},
   "source": [
    "The psuedocode above essentially contains all topology/configuration information about a model,but visualize with graphviz gives even superior representation."
   ]
  },
  {
   "cell_type": "code",
   "execution_count": 4,
   "metadata": {},
   "outputs": [
    {
     "data": {
      "image/svg+xml": "<?xml version=\"1.0\" encoding=\"UTF-8\" standalone=\"no\"?>\n<!DOCTYPE svg PUBLIC \"-//W3C//DTD SVG 1.1//EN\"\n \"http://www.w3.org/Graphics/SVG/1.1/DTD/svg11.dtd\">\n<!-- Generated by graphviz version 2.40.1 (20161225.0304)\n -->\n<!-- Title: openvino models Pages: 1 -->\n<svg width=\"213pt\" height=\"337pt\"\n viewBox=\"0.00 0.00 212.50 337.00\" xmlns=\"http://www.w3.org/2000/svg\" xmlns:xlink=\"http://www.w3.org/1999/xlink\">\n<g id=\"graph0\" class=\"graph\" transform=\"scale(1 1) rotate(0) translate(4 333)\">\n<title>openvino models</title>\n<polygon fill=\"#ffffff\" stroke=\"transparent\" points=\"-4,4 -4,-333 208.5,-333 208.5,4 -4,4\"/>\n<!-- Parameter_0 -->\n<g id=\"node1\" class=\"node\">\n<title>Parameter_0</title>\n<g id=\"a_node1\"><a xlink:title=\"Parameter_0&#10;&#45;&#45;&#45;&#45;attributes&#45;&#45;&#45;&#45;&#10;element_type=f32\">\n<path fill=\"#ffd700\" stroke=\"#000000\" d=\"M4.3333,-315.5C4.3333,-315.5 59.6667,-315.5 59.6667,-315.5 61.8333,-315.5 64,-317.6667 64,-319.8333 64,-319.8333 64,-324.1667 64,-324.1667 64,-326.3333 61.8333,-328.5 59.6667,-328.5 59.6667,-328.5 4.3333,-328.5 4.3333,-328.5 2.1667,-328.5 0,-326.3333 0,-324.1667 0,-324.1667 0,-319.8333 0,-319.8333 0,-317.6667 2.1667,-315.5 4.3333,-315.5\"/>\n<text text-anchor=\"middle\" x=\"32\" y=\"-318.9\" font-family=\"Times,serif\" font-size=\"12.00\" fill=\"#000000\">Parameter</text>\n</a>\n</g>\n</g>\n<!-- Convolution_2 -->\n<g id=\"node3\" class=\"node\">\n<title>Convolution_2</title>\n<g id=\"a_node3\"><a xlink:title=\"Convolution_2&#10;&#45;&#45;&#45;&#45;attributes&#45;&#45;&#45;&#45;&#10;strides=[1, 1]&#10;dilations=[1, 1]&#10;pads_begin=[0, 0]&#10;pads_end=[0, 0]&#10;auto_pad=explicit\">\n<path fill=\"#00ffff\" stroke=\"#000000\" d=\"M47.8333,-252.5C47.8333,-252.5 112.1667,-252.5 112.1667,-252.5 114.3333,-252.5 116.5,-254.6667 116.5,-256.8333 116.5,-256.8333 116.5,-261.1667 116.5,-261.1667 116.5,-263.3333 114.3333,-265.5 112.1667,-265.5 112.1667,-265.5 47.8333,-265.5 47.8333,-265.5 45.6667,-265.5 43.5,-263.3333 43.5,-261.1667 43.5,-261.1667 43.5,-256.8333 43.5,-256.8333 43.5,-254.6667 45.6667,-252.5 47.8333,-252.5\"/>\n<text text-anchor=\"middle\" x=\"80\" y=\"-255.9\" font-family=\"Times,serif\" font-size=\"12.00\" fill=\"#000000\">Convolution</text>\n</a>\n</g>\n</g>\n<!-- Parameter_0&#45;&gt;Convolution_2 -->\n<g id=\"edge1\" class=\"edge\">\n<title>Parameter_0&#45;&gt;Convolution_2</title>\n<path fill=\"none\" stroke=\"#000000\" d=\"M30.264,-315.2459C28.5926,-307.1671 27.0965,-293.5403 33,-284 36.5107,-278.3266 41.7786,-273.865 47.5336,-270.3828\"/>\n<polygon fill=\"#000000\" stroke=\"#000000\" points=\"49.4614,-273.3295 56.7956,-265.6837 46.2941,-267.087 49.4614,-273.3295\"/>\n<text text-anchor=\"middle\" x=\"70\" y=\"-287.4\" font-family=\"Times,serif\" font-size=\"12.00\" fill=\"#000000\">[2,3,7,7] f32</text>\n</g>\n<!-- Constant_1 -->\n<g id=\"node2\" class=\"node\">\n<title>Constant_1</title>\n<g id=\"a_node2\"><a xlink:title=\"Constant_1&#10;&#45;&#45;&#45;&#45;attributes&#45;&#45;&#45;&#45;&#10;element_type=f32&#10;shape=[1, 3, 1, 1]\">\n<path fill=\"#c0c0c0\" stroke=\"#000000\" d=\"M105.8333,-315.5C105.8333,-315.5 152.1667,-315.5 152.1667,-315.5 154.3333,-315.5 156.5,-317.6667 156.5,-319.8333 156.5,-319.8333 156.5,-324.1667 156.5,-324.1667 156.5,-326.3333 154.3333,-328.5 152.1667,-328.5 152.1667,-328.5 105.8333,-328.5 105.8333,-328.5 103.6667,-328.5 101.5,-326.3333 101.5,-324.1667 101.5,-324.1667 101.5,-319.8333 101.5,-319.8333 101.5,-317.6667 103.6667,-315.5 105.8333,-315.5\"/>\n<text text-anchor=\"middle\" x=\"129\" y=\"-318.9\" font-family=\"Times,serif\" font-size=\"12.00\" fill=\"#000000\">Constant</text>\n</a>\n</g>\n</g>\n<!-- Constant_1&#45;&gt;Convolution_2 -->\n<g id=\"edge2\" class=\"edge\">\n<title>Constant_1&#45;&gt;Convolution_2</title>\n<path fill=\"none\" stroke=\"#000000\" d=\"M125.9592,-315.4432C122.1379,-307.5585 115.0913,-294.1229 107,-284 103.8639,-280.0765 100.1074,-276.2049 96.4072,-272.7233\"/>\n<polygon fill=\"#000000\" stroke=\"#000000\" points=\"98.4652,-269.8704 88.6603,-265.8561 93.8218,-275.1086 98.4652,-269.8704\"/>\n<text text-anchor=\"middle\" x=\"152\" y=\"-287.4\" font-family=\"Times,serif\" font-size=\"12.00\" fill=\"#000000\">[1,3,1,1] f32</text>\n</g>\n<!-- MaxPool_3 -->\n<g id=\"node4\" class=\"node\">\n<title>MaxPool_3</title>\n<g id=\"a_node4\"><a xlink:title=\"MaxPool_3&#10;&#45;&#45;&#45;&#45;attributes&#45;&#45;&#45;&#45;&#10;strides=[4, 4]&#10;pads_begin=[0, 0]&#10;pads_end=[0, 0]&#10;kernel=[4, 4]&#10;rounding_type=ceil&#10;auto_pad=explicit\">\n<path fill=\"#00ffff\" stroke=\"#000000\" d=\"M57.8333,-189.5C57.8333,-189.5 102.1667,-189.5 102.1667,-189.5 104.3333,-189.5 106.5,-191.6667 106.5,-193.8333 106.5,-193.8333 106.5,-198.1667 106.5,-198.1667 106.5,-200.3333 104.3333,-202.5 102.1667,-202.5 102.1667,-202.5 57.8333,-202.5 57.8333,-202.5 55.6667,-202.5 53.5,-200.3333 53.5,-198.1667 53.5,-198.1667 53.5,-193.8333 53.5,-193.8333 53.5,-191.6667 55.6667,-189.5 57.8333,-189.5\"/>\n<text text-anchor=\"middle\" x=\"80\" y=\"-192.9\" font-family=\"Times,serif\" font-size=\"12.00\" fill=\"#000000\">MaxPool</text>\n</a>\n</g>\n</g>\n<!-- Convolution_2&#45;&gt;MaxPool_3 -->\n<g id=\"edge3\" class=\"edge\">\n<title>Convolution_2&#45;&gt;MaxPool_3</title>\n<path fill=\"none\" stroke=\"#000000\" d=\"M80,-252.2579C80,-242.9255 80,-225.761 80,-212.8363\"/>\n<polygon fill=\"#000000\" stroke=\"#000000\" points=\"83.5001,-212.5048 80,-202.5048 76.5001,-212.5049 83.5001,-212.5048\"/>\n<text text-anchor=\"middle\" x=\"117\" y=\"-224.4\" font-family=\"Times,serif\" font-size=\"12.00\" fill=\"#000000\">[2,1,7,7] f32</text>\n</g>\n<!-- Relu_4 -->\n<g id=\"node5\" class=\"node\">\n<title>Relu_4</title>\n<g id=\"a_node5\"><a xlink:title=\"Relu_4\">\n<path fill=\"#00ffff\" stroke=\"#000000\" d=\"M70.3333,-126.5C70.3333,-126.5 89.6667,-126.5 89.6667,-126.5 91.8333,-126.5 94,-128.6667 94,-130.8333 94,-130.8333 94,-135.1667 94,-135.1667 94,-137.3333 91.8333,-139.5 89.6667,-139.5 89.6667,-139.5 70.3333,-139.5 70.3333,-139.5 68.1667,-139.5 66,-137.3333 66,-135.1667 66,-135.1667 66,-130.8333 66,-130.8333 66,-128.6667 68.1667,-126.5 70.3333,-126.5\"/>\n<text text-anchor=\"middle\" x=\"80\" y=\"-129.9\" font-family=\"Times,serif\" font-size=\"12.00\" fill=\"#000000\">Relu</text>\n</a>\n</g>\n</g>\n<!-- MaxPool_3&#45;&gt;Relu_4 -->\n<g id=\"edge4\" class=\"edge\">\n<title>MaxPool_3&#45;&gt;Relu_4</title>\n<path fill=\"none\" stroke=\"#000000\" d=\"M80,-189.2579C80,-179.9255 80,-162.761 80,-149.8363\"/>\n<polygon fill=\"#000000\" stroke=\"#000000\" points=\"83.5001,-149.5048 80,-139.5048 76.5001,-149.5049 83.5001,-149.5048\"/>\n<text text-anchor=\"middle\" x=\"117\" y=\"-161.4\" font-family=\"Times,serif\" font-size=\"12.00\" fill=\"#000000\">[2,1,2,2] f32</text>\n</g>\n<!-- Reshape_6 -->\n<g id=\"node7\" class=\"node\">\n<title>Reshape_6</title>\n<g id=\"a_node7\"><a xlink:title=\"Reshape_6&#10;&#45;&#45;&#45;&#45;attributes&#45;&#45;&#45;&#45;&#10;special_zero=False\">\n<path fill=\"#00ffff\" stroke=\"#000000\" d=\"M106.3333,-63.5C106.3333,-63.5 149.6667,-63.5 149.6667,-63.5 151.8333,-63.5 154,-65.6667 154,-67.8333 154,-67.8333 154,-72.1667 154,-72.1667 154,-74.3333 151.8333,-76.5 149.6667,-76.5 149.6667,-76.5 106.3333,-76.5 106.3333,-76.5 104.1667,-76.5 102,-74.3333 102,-72.1667 102,-72.1667 102,-67.8333 102,-67.8333 102,-65.6667 104.1667,-63.5 106.3333,-63.5\"/>\n<text text-anchor=\"middle\" x=\"128\" y=\"-66.9\" font-family=\"Times,serif\" font-size=\"12.00\" fill=\"#000000\">Reshape</text>\n</a>\n</g>\n</g>\n<!-- Relu_4&#45;&gt;Reshape_6 -->\n<g id=\"edge5\" class=\"edge\">\n<title>Relu_4&#45;&gt;Reshape_6</title>\n<path fill=\"none\" stroke=\"#000000\" d=\"M78.264,-126.2459C76.5926,-118.1671 75.0965,-104.5403 81,-95 84.5107,-89.3266 89.7786,-84.865 95.5336,-81.3828\"/>\n<polygon fill=\"#000000\" stroke=\"#000000\" points=\"97.4614,-84.3295 104.7956,-76.6837 94.2941,-78.087 97.4614,-84.3295\"/>\n<text text-anchor=\"middle\" x=\"118\" y=\"-98.4\" font-family=\"Times,serif\" font-size=\"12.00\" fill=\"#000000\">[2,1,2,2] f32</text>\n</g>\n<!-- Constant_5 -->\n<g id=\"node6\" class=\"node\">\n<title>Constant_5</title>\n<g id=\"a_node6\"><a xlink:title=\"Constant_5&#10;&#45;&#45;&#45;&#45;attributes&#45;&#45;&#45;&#45;&#10;element_type=i64&#10;shape=[1]\">\n<path fill=\"#c0c0c0\" stroke=\"#000000\" d=\"M153.8333,-126.5C153.8333,-126.5 200.1667,-126.5 200.1667,-126.5 202.3333,-126.5 204.5,-128.6667 204.5,-130.8333 204.5,-130.8333 204.5,-135.1667 204.5,-135.1667 204.5,-137.3333 202.3333,-139.5 200.1667,-139.5 200.1667,-139.5 153.8333,-139.5 153.8333,-139.5 151.6667,-139.5 149.5,-137.3333 149.5,-135.1667 149.5,-135.1667 149.5,-130.8333 149.5,-130.8333 149.5,-128.6667 151.6667,-126.5 153.8333,-126.5\"/>\n<text text-anchor=\"middle\" x=\"177\" y=\"-129.9\" font-family=\"Times,serif\" font-size=\"12.00\" fill=\"#000000\">Constant</text>\n</a>\n</g>\n</g>\n<!-- Constant_5&#45;&gt;Reshape_6 -->\n<g id=\"edge6\" class=\"edge\">\n<title>Constant_5&#45;&gt;Reshape_6</title>\n<path fill=\"none\" stroke=\"#000000\" d=\"M173.9592,-126.4432C170.1379,-118.5585 163.0913,-105.1229 155,-95 151.8639,-91.0765 148.1074,-87.2049 144.4072,-83.7233\"/>\n<polygon fill=\"#000000\" stroke=\"#000000\" points=\"146.4652,-80.8704 136.6603,-76.8561 141.8218,-86.1086 146.4652,-80.8704\"/>\n<text text-anchor=\"middle\" x=\"183\" y=\"-98.4\" font-family=\"Times,serif\" font-size=\"12.00\" fill=\"#000000\">[1] i64</text>\n</g>\n<!-- Result_12 -->\n<g id=\"node8\" class=\"node\">\n<title>Result_12</title>\n<g id=\"a_node8\"><a xlink:title=\"Result_12\">\n<path fill=\"#ff1493\" stroke=\"#000000\" d=\"M113.3333,-.5C113.3333,-.5 142.6667,-.5 142.6667,-.5 144.8333,-.5 147,-2.6667 147,-4.8333 147,-4.8333 147,-9.1667 147,-9.1667 147,-11.3333 144.8333,-13.5 142.6667,-13.5 142.6667,-13.5 113.3333,-13.5 113.3333,-13.5 111.1667,-13.5 109,-11.3333 109,-9.1667 109,-9.1667 109,-4.8333 109,-4.8333 109,-2.6667 111.1667,-.5 113.3333,-.5\"/>\n<text text-anchor=\"middle\" x=\"128\" y=\"-3.9\" font-family=\"Times,serif\" font-size=\"12.00\" fill=\"#000000\">Result</text>\n</a>\n</g>\n</g>\n<!-- Reshape_6&#45;&gt;Result_12 -->\n<g id=\"edge7\" class=\"edge\">\n<title>Reshape_6&#45;&gt;Result_12</title>\n<path fill=\"none\" stroke=\"#000000\" d=\"M128,-63.2579C128,-53.9255 128,-36.761 128,-23.8363\"/>\n<polygon fill=\"#000000\" stroke=\"#000000\" points=\"131.5001,-23.5048 128,-13.5048 124.5001,-23.5049 131.5001,-23.5048\"/>\n<text text-anchor=\"middle\" x=\"148\" y=\"-35.4\" font-family=\"Times,serif\" font-size=\"12.00\" fill=\"#000000\">[8] f32</text>\n</g>\n</g>\n</svg>\n",
      "text/plain": [
       "<graphviz.files.Source at 0x7f5f4eae8b70>"
      ]
     },
     "execution_count": 4,
     "metadata": {},
     "output_type": "execute_result"
    }
   ],
   "source": [
    "ovhelper.visualize_model(model)"
   ]
  },
  {
   "cell_type": "markdown",
   "metadata": {},
   "source": [
    "You can hover your mouse on nodes to see details about it."
   ]
  },
  {
   "cell_type": "markdown",
   "metadata": {},
   "source": [
    "the `Model` here is high-level device-independent representation of CNN in openvino, most of the time user get this by converting from models of other NN frameworks."
   ]
  },
  {
   "cell_type": "markdown",
   "metadata": {},
   "source": [
    "# Model convert(import) APIs\n",
    "\n",
    "src/bindings/python/src/pyopenvino/core/core.cpp"
   ]
  },
  {
   "cell_type": "markdown",
   "metadata": {},
   "source": [
    "## Check supportiveness of a Model\n",
    "\n",
    "Usually user just call compile_model() on a device w/o this step."
   ]
  },
  {
   "cell_type": "code",
   "execution_count": 5,
   "metadata": {},
   "outputs": [
    {
     "name": "stdout",
     "output_type": "stream",
     "text": [
      "Constant_1 is supported by CPU\n",
      "Constant_5 is supported by CPU\n",
      "Convolution_2 is supported by CPU\n",
      "MaxPool_3 is supported by CPU\n",
      "Parameter_0 is supported by CPU\n",
      "Relu_4 is supported by CPU\n",
      "Reshape_6 is supported by CPU\n",
      "Result_12 is supported by CPU\n"
     ]
    }
   ],
   "source": [
    "# returns  Pairs a operation name -> a device name supporting this operation.\n",
    "for opname, devname in core.query_model(model, 'CPU').items():\n",
    "    print(\"{} is supported by {}\".format(opname, devname))"
   ]
  },
  {
   "cell_type": "markdown",
   "metadata": {},
   "source": [
    "## Compile model on particular device"
   ]
  },
  {
   "cell_type": "code",
   "execution_count": 6,
   "metadata": {},
   "outputs": [
    {
     "name": "stdout",
     "output_type": "stream",
     "text": [
      "exported model is saved to  /home/hddl/NN-runtimes/OpenVINO/my_model\n",
      "=============runtime model=============\n",
      "model(Parameter_2567):\n",
      "    Tensor<2x3x7x7xf32> t1 = Parameter_0(element_type=f32)\n",
      "\t\t\t#rt_info:\n",
      "\t\t\t#\texecOrder=3\n",
      "\t\t\t#\texecTimeMcs=not_executed\n",
      "\t\t\t#\tlayerType=Input\n",
      "\t\t\t#\toriginalLayersNames=Parameter_0\n",
      "\t\t\t#\toutputLayouts=abcd\n",
      "\t\t\t#\toutputPrecisions=FP32\n",
      "\t\t\t#\tprimitiveType=unknown_FP32\n",
      "\t\t\t#\truntimePrecision=FP32\n",
      "\n",
      "    Tensor<1x3x1x1xf32> t2 = Constant_1()\n",
      "\t\t\t#rt_info:\n",
      "\t\t\t#\texecOrder=1\n",
      "\t\t\t#\texecTimeMcs=not_executed\n",
      "\t\t\t#\tlayerType=Const\n",
      "\t\t\t#\toriginalLayersNames=Constant_1\n",
      "\t\t\t#\toutputLayouts=abcd\n",
      "\t\t\t#\toutputPrecisions=FP32\n",
      "\t\t\t#\tprimitiveType=unknown_FP32\n",
      "\t\t\t#\truntimePrecision=FP32\n",
      "\n",
      "    Tensor<1x3x1x1xf32> t3 = Constant_1_abcd_Acdb8a_Convolution_2(t2)\n",
      "\t\t\t#rt_info:\n",
      "\t\t\t#\texecOrder=2\n",
      "\t\t\t#\texecTimeMcs=not_executed\n",
      "\t\t\t#\tlayerType=Reorder\n",
      "\t\t\t#\toriginalLayersNames=\n",
      "\t\t\t#\toutputLayouts=Acdb8a\n",
      "\t\t\t#\toutputPrecisions=FP32\n",
      "\t\t\t#\tprimitiveType=ref_any_FP32\n",
      "\t\t\t#\truntimePrecision=FP32\n",
      "\n",
      "    Tensor<2x1x7x7xf32> t4 = Convolution_2(t1,t3)\n",
      "\t\t\t#rt_info:\n",
      "\t\t\t#\texecOrder=4\n",
      "\t\t\t#\texecTimeMcs=not_executed\n",
      "\t\t\t#\tlayerType=Convolution\n",
      "\t\t\t#\toriginalLayersNames=Convolution_2,Relu_4\n",
      "\t\t\t#\toutputLayouts=aBcd8b\n",
      "\t\t\t#\toutputPrecisions=FP32\n",
      "\t\t\t#\tprimitiveType=jit_avx2_FP32\n",
      "\t\t\t#\truntimePrecision=FP32\n",
      "\n",
      "    Tensor<2x1x7x7xf32> t5 = Convolution_2_aBcd8b_abcd_MaxPool_3(t4)\n",
      "\t\t\t#rt_info:\n",
      "\t\t\t#\texecOrder=5\n",
      "\t\t\t#\texecTimeMcs=not_executed\n",
      "\t\t\t#\tlayerType=Reorder\n",
      "\t\t\t#\toriginalLayersNames=\n",
      "\t\t\t#\toutputLayouts=abcd\n",
      "\t\t\t#\toutputPrecisions=FP32\n",
      "\t\t\t#\tprimitiveType=ref_any_FP32\n",
      "\t\t\t#\truntimePrecision=FP32\n",
      "\n",
      "    Tensor<2x1x2x2xf32> t6 = MaxPool_3(t5)\n",
      "\t\t\t#rt_info:\n",
      "\t\t\t#\texecOrder=6\n",
      "\t\t\t#\texecTimeMcs=not_executed\n",
      "\t\t\t#\tlayerType=Pooling\n",
      "\t\t\t#\toriginalLayersNames=MaxPool_3\n",
      "\t\t\t#\toutputLayouts=abcd\n",
      "\t\t\t#\toutputPrecisions=FP32\n",
      "\t\t\t#\tprimitiveType=ref_any_FP32\n",
      "\t\t\t#\truntimePrecision=FP32\n",
      "\n",
      "    Tensor<1xi32> t7 = Constant_5()\n",
      "\t\t\t#rt_info:\n",
      "\t\t\t#\texecOrder=0\n",
      "\t\t\t#\texecTimeMcs=not_executed\n",
      "\t\t\t#\tlayerType=Const\n",
      "\t\t\t#\toriginalLayersNames=Constant_5\n",
      "\t\t\t#\toutputLayouts=a\n",
      "\t\t\t#\toutputPrecisions=I32\n",
      "\t\t\t#\tprimitiveType=unknown_I32\n",
      "\t\t\t#\truntimePrecision=I32\n",
      "\n",
      "    Tensor<8xf32> t8 = Reshape_6(t6,t7)\n",
      "\t\t\t#rt_info:\n",
      "\t\t\t#\texecOrder=7\n",
      "\t\t\t#\texecTimeMcs=not_executed\n",
      "\t\t\t#\tlayerType=Reshape\n",
      "\t\t\t#\toriginalLayersNames=Reshape_6\n",
      "\t\t\t#\toutputLayouts=a\n",
      "\t\t\t#\toutputPrecisions=FP32\n",
      "\t\t\t#\tprimitiveType=unknown_FP32\n",
      "\t\t\t#\truntimePrecision=FP32\n",
      "\n",
      "    Tensor<8xf32> t9 = Result_12(t8)\n",
      "\t\t\t#rt_info:\n",
      "\t\t\t#\texecOrder=8\n",
      "\t\t\t#\texecTimeMcs=not_executed\n",
      "\t\t\t#\tlayerType=Output\n",
      "\t\t\t#\toriginalLayersNames=Result_12\n",
      "\t\t\t#\toutputLayouts=undef\n",
      "\t\t\t#\toutputPrecisions=FP32\n",
      "\t\t\t#\tprimitiveType=unknown_FP32\n",
      "\t\t\t#\truntimePrecision=FP32\n",
      "\n",
      "    return t9\n"
     ]
    },
    {
     "data": {
      "image/svg+xml": "<?xml version=\"1.0\" encoding=\"UTF-8\" standalone=\"no\"?>\n<!DOCTYPE svg PUBLIC \"-//W3C//DTD SVG 1.1//EN\"\n \"http://www.w3.org/Graphics/SVG/1.1/DTD/svg11.dtd\">\n<!-- Generated by graphviz version 2.40.1 (20161225.0304)\n -->\n<!-- Title: openvino models Pages: 1 -->\n<svg width=\"312pt\" height=\"504pt\"\n viewBox=\"0.00 0.00 312.00 504.00\" xmlns=\"http://www.w3.org/2000/svg\" xmlns:xlink=\"http://www.w3.org/1999/xlink\">\n<g id=\"graph0\" class=\"graph\" transform=\"scale(1 1) rotate(0) translate(4 500)\">\n<title>openvino models</title>\n<polygon fill=\"#ffffff\" stroke=\"transparent\" points=\"-4,4 -4,-500 308,-500 308,4 -4,4\"/>\n<!-- Parameter_0 -->\n<g id=\"node1\" class=\"node\">\n<title>Parameter_0</title>\n<g id=\"a_node1\"><a xlink:title=\"Parameter_0&#10;&#45;&#45;&#45;&#45;attributes&#45;&#45;&#45;&#45;&#10;element_type=f32&#10;&#45;&#45;&#45;&#45;rt_info&#45;&#45;&#45;&#45;&#10;execOrder=3&#10;execTimeMcs=not_executed&#10;layerType=Input&#10;originalLayersNames=Parameter_0&#10;outputLayouts=abcd&#10;outputPrecisions=FP32&#10;primitiveType=unknown_FP32&#10;runtimePrecision=FP32\">\n<path fill=\"#00ffff\" stroke=\"#000000\" d=\"M8.6667,-393.5C8.6667,-393.5 69.3333,-393.5 69.3333,-393.5 73.6667,-393.5 78,-397.8333 78,-402.1667 78,-402.1667 78,-410.8333 78,-410.8333 78,-415.1667 73.6667,-419.5 69.3333,-419.5 69.3333,-419.5 8.6667,-419.5 8.6667,-419.5 4.3333,-419.5 0,-415.1667 0,-410.8333 0,-410.8333 0,-402.1667 0,-402.1667 0,-397.8333 4.3333,-393.5 8.6667,-393.5\"/>\n<text text-anchor=\"middle\" x=\"39\" y=\"-409.9\" font-family=\"Times,serif\" font-size=\"12.00\" fill=\"#000000\">Input</text>\n<polyline fill=\"none\" stroke=\"#000000\" points=\"0,-406.5 78,-406.5 \"/>\n<text text-anchor=\"middle\" x=\"39\" y=\"-396.9\" font-family=\"Times,serif\" font-size=\"12.00\" fill=\"#000000\">Parameter_0</text>\n</a>\n</g>\n</g>\n<!-- Convolution_2 -->\n<g id=\"node4\" class=\"node\">\n<title>Convolution_2</title>\n<g id=\"a_node4\"><a xlink:title=\"Convolution_2&#10;&#45;&#45;&#45;&#45;rt_info&#45;&#45;&#45;&#45;&#10;execOrder=4&#10;execTimeMcs=not_executed&#10;layerType=Convolution&#10;originalLayersNames=Convolution_2,Relu_4&#10;outputLayouts=aBcd8b&#10;outputPrecisions=FP32&#10;primitiveType=jit_avx2_FP32&#10;runtimePrecision=FP32\">\n<path fill=\"#00ffff\" stroke=\"#000000\" d=\"M78.5,-304.5C78.5,-304.5 141.5,-304.5 141.5,-304.5 147.5,-304.5 153.5,-310.5 153.5,-316.5 153.5,-316.5 153.5,-331.5 153.5,-331.5 153.5,-337.5 147.5,-343.5 141.5,-343.5 141.5,-343.5 78.5,-343.5 78.5,-343.5 72.5,-343.5 66.5,-337.5 66.5,-331.5 66.5,-331.5 66.5,-316.5 66.5,-316.5 66.5,-310.5 72.5,-304.5 78.5,-304.5\"/>\n<text text-anchor=\"middle\" x=\"110\" y=\"-333.9\" font-family=\"Times,serif\" font-size=\"12.00\" fill=\"#000000\">Convolution</text>\n<polyline fill=\"none\" stroke=\"#000000\" points=\"66.5,-330.5 153.5,-330.5 \"/>\n<text text-anchor=\"middle\" x=\"110\" y=\"-320.9\" font-family=\"Times,serif\" font-size=\"12.00\" fill=\"#000000\">Convolution_2</text>\n<polyline fill=\"none\" stroke=\"#000000\" points=\"66.5,-317.5 153.5,-317.5 \"/>\n<text text-anchor=\"middle\" x=\"110\" y=\"-307.9\" font-family=\"Times,serif\" font-size=\"12.00\" fill=\"#000000\">Relu_4</text>\n</a>\n</g>\n</g>\n<!-- Parameter_0&#45;&gt;Convolution_2 -->\n<g id=\"edge2\" class=\"edge\">\n<title>Parameter_0&#45;&gt;Convolution_2</title>\n<path fill=\"none\" stroke=\"#000000\" d=\"M36.0175,-393.4581C34.6011,-384.0338 34.2835,-371.3666 40,-362 44.3053,-354.9456 50.4156,-349.1139 57.2535,-344.3185\"/>\n<polygon fill=\"#000000\" stroke=\"#000000\" points=\"59.5501,-347.0141 66.2228,-338.7845 55.8745,-341.0568 59.5501,-347.0141\"/>\n<text text-anchor=\"middle\" x=\"99.5\" y=\"-365.4\" font-family=\"Times,serif\" font-size=\"12.00\" fill=\"#000000\">[2,3,7,7] abcd FP32</text>\n</g>\n<!-- Constant_1 -->\n<g id=\"node2\" class=\"node\">\n<title>Constant_1</title>\n<g id=\"a_node2\"><a xlink:title=\"Constant_1&#10;&#45;&#45;&#45;&#45;rt_info&#45;&#45;&#45;&#45;&#10;execOrder=1&#10;execTimeMcs=not_executed&#10;layerType=Const&#10;originalLayersNames=Constant_1&#10;outputLayouts=abcd&#10;outputPrecisions=FP32&#10;primitiveType=unknown_FP32&#10;runtimePrecision=FP32\">\n<path fill=\"#00ffff\" stroke=\"#000000\" d=\"M155.6667,-469.5C155.6667,-469.5 206.3333,-469.5 206.3333,-469.5 210.6667,-469.5 215,-473.8333 215,-478.1667 215,-478.1667 215,-486.8333 215,-486.8333 215,-491.1667 210.6667,-495.5 206.3333,-495.5 206.3333,-495.5 155.6667,-495.5 155.6667,-495.5 151.3333,-495.5 147,-491.1667 147,-486.8333 147,-486.8333 147,-478.1667 147,-478.1667 147,-473.8333 151.3333,-469.5 155.6667,-469.5\"/>\n<text text-anchor=\"middle\" x=\"181\" y=\"-485.9\" font-family=\"Times,serif\" font-size=\"12.00\" fill=\"#000000\">Const</text>\n<polyline fill=\"none\" stroke=\"#000000\" points=\"147,-482.5 215,-482.5 \"/>\n<text text-anchor=\"middle\" x=\"181\" y=\"-472.9\" font-family=\"Times,serif\" font-size=\"12.00\" fill=\"#000000\">Constant_1</text>\n</a>\n</g>\n</g>\n<!-- Constant_1_abcd_Acdb8a_Convolution_2 -->\n<g id=\"node3\" class=\"node\">\n<title>Constant_1_abcd_Acdb8a_Convolution_2</title>\n<g id=\"a_node3\"><a xlink:title=\"Constant_1_abcd_Acdb8a_Convolution_2&#10;&#45;&#45;&#45;&#45;rt_info&#45;&#45;&#45;&#45;&#10;execOrder=2&#10;execTimeMcs=not_executed&#10;layerType=Reorder&#10;originalLayersNames=&#10;outputLayouts=Acdb8a&#10;outputPrecisions=FP32&#10;primitiveType=ref_any_FP32&#10;runtimePrecision=FP32\">\n<path fill=\"#00ffff\" stroke=\"#000000\" d=\"M164.6667,-393.5C164.6667,-393.5 197.3333,-393.5 197.3333,-393.5 201.6667,-393.5 206,-397.8333 206,-402.1667 206,-402.1667 206,-410.8333 206,-410.8333 206,-415.1667 201.6667,-419.5 197.3333,-419.5 197.3333,-419.5 164.6667,-419.5 164.6667,-419.5 160.3333,-419.5 156,-415.1667 156,-410.8333 156,-410.8333 156,-402.1667 156,-402.1667 156,-397.8333 160.3333,-393.5 164.6667,-393.5\"/>\n<text text-anchor=\"middle\" x=\"181\" y=\"-409.9\" font-family=\"Times,serif\" font-size=\"12.00\" fill=\"#000000\">Reorder</text>\n<polyline fill=\"none\" stroke=\"#000000\" points=\"156,-406.5 206,-406.5 \"/>\n<text text-anchor=\"middle\" x=\"181\" y=\"-396.9\" font-family=\"Times,serif\" font-size=\"12.00\" fill=\"#000000\"> </text>\n</a>\n</g>\n</g>\n<!-- Constant_1&#45;&gt;Constant_1_abcd_Acdb8a_Convolution_2 -->\n<g id=\"edge1\" class=\"edge\">\n<title>Constant_1&#45;&gt;Constant_1_abcd_Acdb8a_Convolution_2</title>\n<path fill=\"none\" stroke=\"#000000\" d=\"M181,-469.2618C181,-458.3639 181,-442.6535 181,-429.6775\"/>\n<polygon fill=\"#000000\" stroke=\"#000000\" points=\"184.5001,-429.5865 181,-419.5865 177.5001,-429.5865 184.5001,-429.5865\"/>\n<text text-anchor=\"middle\" x=\"240.5\" y=\"-441.4\" font-family=\"Times,serif\" font-size=\"12.00\" fill=\"#000000\">[1,3,1,1] abcd FP32</text>\n</g>\n<!-- Constant_1_abcd_Acdb8a_Convolution_2&#45;&gt;Convolution_2 -->\n<g id=\"edge3\" class=\"edge\">\n<title>Constant_1_abcd_Acdb8a_Convolution_2&#45;&gt;Convolution_2</title>\n<path fill=\"none\" stroke=\"#000000\" d=\"M176.2453,-393.1245C172.4988,-383.7755 166.635,-371.3426 159,-362 155.5513,-357.78 151.5504,-353.743 147.3505,-349.9816\"/>\n<polygon fill=\"#000000\" stroke=\"#000000\" points=\"149.5644,-347.2704 139.6522,-343.5289 145.0677,-352.6351 149.5644,-347.2704\"/>\n<text text-anchor=\"middle\" x=\"236\" y=\"-365.4\" font-family=\"Times,serif\" font-size=\"12.00\" fill=\"#000000\">[1,3,1,1] Acdb8a FP32</text>\n</g>\n<!-- Convolution_2_aBcd8b_abcd_MaxPool_3 -->\n<g id=\"node5\" class=\"node\">\n<title>Convolution_2_aBcd8b_abcd_MaxPool_3</title>\n<g id=\"a_node5\"><a xlink:title=\"Convolution_2_aBcd8b_abcd_MaxPool_3&#10;&#45;&#45;&#45;&#45;rt_info&#45;&#45;&#45;&#45;&#10;execOrder=5&#10;execTimeMcs=not_executed&#10;layerType=Reorder&#10;originalLayersNames=&#10;outputLayouts=abcd&#10;outputPrecisions=FP32&#10;primitiveType=ref_any_FP32&#10;runtimePrecision=FP32\">\n<path fill=\"#00ffff\" stroke=\"#000000\" d=\"M93.6667,-228.5C93.6667,-228.5 126.3333,-228.5 126.3333,-228.5 130.6667,-228.5 135,-232.8333 135,-237.1667 135,-237.1667 135,-245.8333 135,-245.8333 135,-250.1667 130.6667,-254.5 126.3333,-254.5 126.3333,-254.5 93.6667,-254.5 93.6667,-254.5 89.3333,-254.5 85,-250.1667 85,-245.8333 85,-245.8333 85,-237.1667 85,-237.1667 85,-232.8333 89.3333,-228.5 93.6667,-228.5\"/>\n<text text-anchor=\"middle\" x=\"110\" y=\"-244.9\" font-family=\"Times,serif\" font-size=\"12.00\" fill=\"#000000\">Reorder</text>\n<polyline fill=\"none\" stroke=\"#000000\" points=\"85,-241.5 135,-241.5 \"/>\n<text text-anchor=\"middle\" x=\"110\" y=\"-231.9\" font-family=\"Times,serif\" font-size=\"12.00\" fill=\"#000000\"> </text>\n</a>\n</g>\n</g>\n<!-- Convolution_2&#45;&gt;Convolution_2_aBcd8b_abcd_MaxPool_3 -->\n<g id=\"edge4\" class=\"edge\">\n<title>Convolution_2&#45;&gt;Convolution_2_aBcd8b_abcd_MaxPool_3</title>\n<path fill=\"none\" stroke=\"#000000\" d=\"M110,-304.4487C110,-292.6555 110,-277.5544 110,-265.0993\"/>\n<polygon fill=\"#000000\" stroke=\"#000000\" points=\"113.5001,-264.9847 110,-254.9847 106.5001,-264.9847 113.5001,-264.9847\"/>\n<text text-anchor=\"middle\" x=\"178\" y=\"-276.4\" font-family=\"Times,serif\" font-size=\"12.00\" fill=\"#000000\">[2,1,7,7] aBcd8b FP32</text>\n</g>\n<!-- MaxPool_3 -->\n<g id=\"node6\" class=\"node\">\n<title>MaxPool_3</title>\n<g id=\"a_node6\"><a xlink:title=\"MaxPool_3&#10;&#45;&#45;&#45;&#45;rt_info&#45;&#45;&#45;&#45;&#10;execOrder=6&#10;execTimeMcs=not_executed&#10;layerType=Pooling&#10;originalLayersNames=MaxPool_3&#10;outputLayouts=abcd&#10;outputPrecisions=FP32&#10;primitiveType=ref_any_FP32&#10;runtimePrecision=FP32\">\n<path fill=\"#00ffff\" stroke=\"#000000\" d=\"M85.1667,-152.5C85.1667,-152.5 134.8333,-152.5 134.8333,-152.5 139.1667,-152.5 143.5,-156.8333 143.5,-161.1667 143.5,-161.1667 143.5,-169.8333 143.5,-169.8333 143.5,-174.1667 139.1667,-178.5 134.8333,-178.5 134.8333,-178.5 85.1667,-178.5 85.1667,-178.5 80.8333,-178.5 76.5,-174.1667 76.5,-169.8333 76.5,-169.8333 76.5,-161.1667 76.5,-161.1667 76.5,-156.8333 80.8333,-152.5 85.1667,-152.5\"/>\n<text text-anchor=\"middle\" x=\"110\" y=\"-168.9\" font-family=\"Times,serif\" font-size=\"12.00\" fill=\"#000000\">Pooling</text>\n<polyline fill=\"none\" stroke=\"#000000\" points=\"76.5,-165.5 143.5,-165.5 \"/>\n<text text-anchor=\"middle\" x=\"110\" y=\"-155.9\" font-family=\"Times,serif\" font-size=\"12.00\" fill=\"#000000\">MaxPool_3</text>\n</a>\n</g>\n</g>\n<!-- Convolution_2_aBcd8b_abcd_MaxPool_3&#45;&gt;MaxPool_3 -->\n<g id=\"edge5\" class=\"edge\">\n<title>Convolution_2_aBcd8b_abcd_MaxPool_3&#45;&gt;MaxPool_3</title>\n<path fill=\"none\" stroke=\"#000000\" d=\"M110,-228.2618C110,-217.3639 110,-201.6535 110,-188.6775\"/>\n<polygon fill=\"#000000\" stroke=\"#000000\" points=\"113.5001,-188.5865 110,-178.5865 106.5001,-188.5865 113.5001,-188.5865\"/>\n<text text-anchor=\"middle\" x=\"169.5\" y=\"-200.4\" font-family=\"Times,serif\" font-size=\"12.00\" fill=\"#000000\">[2,1,7,7] abcd FP32</text>\n</g>\n<!-- Reshape_6 -->\n<g id=\"node8\" class=\"node\">\n<title>Reshape_6</title>\n<g id=\"a_node8\"><a xlink:title=\"Reshape_6&#10;&#45;&#45;&#45;&#45;rt_info&#45;&#45;&#45;&#45;&#10;execOrder=7&#10;execTimeMcs=not_executed&#10;layerType=Reshape&#10;originalLayersNames=Reshape_6&#10;outputLayouts=a&#10;outputPrecisions=FP32&#10;primitiveType=unknown_FP32&#10;runtimePrecision=FP32\">\n<path fill=\"#00ffff\" stroke=\"#000000\" d=\"M157.1667,-76.5C157.1667,-76.5 204.8333,-76.5 204.8333,-76.5 209.1667,-76.5 213.5,-80.8333 213.5,-85.1667 213.5,-85.1667 213.5,-93.8333 213.5,-93.8333 213.5,-98.1667 209.1667,-102.5 204.8333,-102.5 204.8333,-102.5 157.1667,-102.5 157.1667,-102.5 152.8333,-102.5 148.5,-98.1667 148.5,-93.8333 148.5,-93.8333 148.5,-85.1667 148.5,-85.1667 148.5,-80.8333 152.8333,-76.5 157.1667,-76.5\"/>\n<text text-anchor=\"middle\" x=\"181\" y=\"-92.9\" font-family=\"Times,serif\" font-size=\"12.00\" fill=\"#000000\">Reshape</text>\n<polyline fill=\"none\" stroke=\"#000000\" points=\"148.5,-89.5 213.5,-89.5 \"/>\n<text text-anchor=\"middle\" x=\"181\" y=\"-79.9\" font-family=\"Times,serif\" font-size=\"12.00\" fill=\"#000000\">Reshape_6</text>\n</a>\n</g>\n</g>\n<!-- MaxPool_3&#45;&gt;Reshape_6 -->\n<g id=\"edge6\" class=\"edge\">\n<title>MaxPool_3&#45;&gt;Reshape_6</title>\n<path fill=\"none\" stroke=\"#000000\" d=\"M106.8124,-152.3276C105.294,-142.8385 104.9387,-130.1473 111,-121 117.5474,-111.1191 127.9953,-104.3017 138.8429,-99.6118\"/>\n<polygon fill=\"#000000\" stroke=\"#000000\" points=\"140.2667,-102.8156 148.3905,-96.0146 137.7986,-96.2651 140.2667,-102.8156\"/>\n<text text-anchor=\"middle\" x=\"170.5\" y=\"-124.4\" font-family=\"Times,serif\" font-size=\"12.00\" fill=\"#000000\">[2,1,2,2] abcd FP32</text>\n</g>\n<!-- Constant_5 -->\n<g id=\"node7\" class=\"node\">\n<title>Constant_5</title>\n<g id=\"a_node7\"><a xlink:title=\"Constant_5&#10;&#45;&#45;&#45;&#45;rt_info&#45;&#45;&#45;&#45;&#10;execOrder=0&#10;execTimeMcs=not_executed&#10;layerType=Const&#10;originalLayersNames=Constant_5&#10;outputLayouts=a&#10;outputPrecisions=I32&#10;primitiveType=unknown_I32&#10;runtimePrecision=I32\">\n<path fill=\"#00ffff\" stroke=\"#000000\" d=\"M226.6667,-152.5C226.6667,-152.5 277.3333,-152.5 277.3333,-152.5 281.6667,-152.5 286,-156.8333 286,-161.1667 286,-161.1667 286,-169.8333 286,-169.8333 286,-174.1667 281.6667,-178.5 277.3333,-178.5 277.3333,-178.5 226.6667,-178.5 226.6667,-178.5 222.3333,-178.5 218,-174.1667 218,-169.8333 218,-169.8333 218,-161.1667 218,-161.1667 218,-156.8333 222.3333,-152.5 226.6667,-152.5\"/>\n<text text-anchor=\"middle\" x=\"252\" y=\"-168.9\" font-family=\"Times,serif\" font-size=\"12.00\" fill=\"#000000\">Const</text>\n<polyline fill=\"none\" stroke=\"#000000\" points=\"218,-165.5 286,-165.5 \"/>\n<text text-anchor=\"middle\" x=\"252\" y=\"-155.9\" font-family=\"Times,serif\" font-size=\"12.00\" fill=\"#000000\">Constant_5</text>\n</a>\n</g>\n</g>\n<!-- Constant_5&#45;&gt;Reshape_6 -->\n<g id=\"edge7\" class=\"edge\">\n<title>Constant_5&#45;&gt;Reshape_6</title>\n<path fill=\"none\" stroke=\"#000000\" d=\"M247.6488,-152.3144C244.0317,-142.8187 238.1547,-130.1251 230,-121 225.7545,-116.2493 220.6311,-111.9292 215.3189,-108.1153\"/>\n<polygon fill=\"#000000\" stroke=\"#000000\" points=\"217.1849,-105.1532 206.9149,-102.5499 213.3199,-110.9895 217.1849,-105.1532\"/>\n<text text-anchor=\"middle\" x=\"264\" y=\"-124.4\" font-family=\"Times,serif\" font-size=\"12.00\" fill=\"#000000\">[1] a I32</text>\n</g>\n<!-- Result_12 -->\n<g id=\"node9\" class=\"node\">\n<title>Result_12</title>\n<g id=\"a_node9\"><a xlink:title=\"Result_12&#10;&#45;&#45;&#45;&#45;rt_info&#45;&#45;&#45;&#45;&#10;execOrder=8&#10;execTimeMcs=not_executed&#10;layerType=Output&#10;originalLayersNames=Result_12&#10;outputLayouts=undef&#10;outputPrecisions=FP32&#10;primitiveType=unknown_FP32&#10;runtimePrecision=FP32\">\n<path fill=\"#00ffff\" stroke=\"#000000\" d=\"M160.1667,-.5C160.1667,-.5 201.8333,-.5 201.8333,-.5 206.1667,-.5 210.5,-4.8333 210.5,-9.1667 210.5,-9.1667 210.5,-17.8333 210.5,-17.8333 210.5,-22.1667 206.1667,-26.5 201.8333,-26.5 201.8333,-26.5 160.1667,-26.5 160.1667,-26.5 155.8333,-26.5 151.5,-22.1667 151.5,-17.8333 151.5,-17.8333 151.5,-9.1667 151.5,-9.1667 151.5,-4.8333 155.8333,-.5 160.1667,-.5\"/>\n<text text-anchor=\"middle\" x=\"181\" y=\"-16.9\" font-family=\"Times,serif\" font-size=\"12.00\" fill=\"#000000\">Output</text>\n<polyline fill=\"none\" stroke=\"#000000\" points=\"151.5,-13.5 210.5,-13.5 \"/>\n<text text-anchor=\"middle\" x=\"181\" y=\"-3.9\" font-family=\"Times,serif\" font-size=\"12.00\" fill=\"#000000\">Result_12</text>\n</a>\n</g>\n</g>\n<!-- Reshape_6&#45;&gt;Result_12 -->\n<g id=\"edge8\" class=\"edge\">\n<title>Reshape_6&#45;&gt;Result_12</title>\n<path fill=\"none\" stroke=\"#000000\" d=\"M181,-76.2618C181,-65.3639 181,-49.6535 181,-36.6775\"/>\n<polygon fill=\"#000000\" stroke=\"#000000\" points=\"184.5001,-36.5865 181,-26.5865 177.5001,-36.5865 184.5001,-36.5865\"/>\n<text text-anchor=\"middle\" x=\"213\" y=\"-48.4\" font-family=\"Times,serif\" font-size=\"12.00\" fill=\"#000000\">[8] a FP32</text>\n</g>\n</g>\n</svg>\n",
      "text/plain": [
       "<graphviz.files.Source at 0x7f5f4dd47898>"
      ]
     },
     "execution_count": 6,
     "metadata": {},
     "output_type": "execute_result"
    }
   ],
   "source": [
    "device = 'CPU'\n",
    "# enable PERF_COUNT\n",
    "core.set_property(device, {\"PERF_COUNT\": \"YES\"})\n",
    "compiled_model = core.compile_model(model, device)\n",
    "\n",
    "# exported model is actually the IR in xml format\n",
    "user_stream = compiled_model.export_model()\n",
    "with open('./my_model', 'wb') as f:\n",
    "    f.write(user_stream)\n",
    "\n",
    "!echo \"exported model is saved to \" `realpath ./my_model`\n",
    "\n",
    "# import_model also returns a compiled model\n",
    "#core.import_model(\"./my_model\",'CPU')\n",
    "\n",
    "# runtime model is internal low-level executable graph for particular device\n",
    "# although still a ngraph function, but it uses different set of op (`ExecutionNode`)\n",
    "# to represent internal OP, and all useful information is in get_rt_info()\n",
    "print(\"=============runtime model=============\")\n",
    "runtime_model = compiled_model.get_runtime_model()\n",
    "ovhelper.print_model(runtime_model)\n",
    "ovhelper.visualize_model(runtime_model)"
   ]
  },
  {
   "cell_type": "markdown",
   "metadata": {},
   "source": [
    "For CPU plugin, the runtime model has additional runtime information embedded:\n",
    " - layerType: the exact operation type\n",
    " - outputLayouts: define the output tensor memory layout.\n",
    " - outputPrecisions: the runtime precision\n",
    " - primitiveType: the optimization/implementation type\n",
    " - execTimeMcs: execution time (same as profiling_info)\n",
    "\n",
    "Graphviz visualization integrated these additional information to allow us to gain some insights into CPU plugin runtime model:\n",
    "  - All ops are mapped from CPU plugin internal node(like Pooling/Input/Output/...)\n",
    "  - Relu exchanged with Maxpooling and finally fused into \n",
    "  - Convolution is done using blocked memory format\n",
    "  - Reorder node is inserted to convert weights into blocked format\n"
   ]
  },
  {
   "cell_type": "markdown",
   "metadata": {},
   "source": [
    "The APIs and relationships can be visualized as following:"
   ]
  },
  {
   "cell_type": "code",
   "execution_count": 7,
   "metadata": {},
   "outputs": [
    {
     "data": {
      "image/svg+xml": "<?xml version=\"1.0\" encoding=\"UTF-8\" standalone=\"no\"?>\n<!DOCTYPE svg PUBLIC \"-//W3C//DTD SVG 1.1//EN\"\n \"http://www.w3.org/Graphics/SVG/1.1/DTD/svg11.dtd\">\n<!-- Generated by graphviz version 2.40.1 (20161225.0304)\n -->\n<!-- Title: openvino models relationship Pages: 1 -->\n<svg width=\"415pt\" height=\"305pt\"\n viewBox=\"0.00 0.00 415.19 305.00\" xmlns=\"http://www.w3.org/2000/svg\" xmlns:xlink=\"http://www.w3.org/1999/xlink\">\n<g id=\"graph0\" class=\"graph\" transform=\"scale(1 1) rotate(0) translate(4 301)\">\n<title>openvino models relationship</title>\n<polygon fill=\"#ffffff\" stroke=\"transparent\" points=\"-4,4 -4,-301 411.1908,-301 411.1908,4 -4,4\"/>\n<!-- Model -->\n<g id=\"node1\" class=\"node\">\n<title>Model</title>\n<ellipse fill=\"none\" stroke=\"#000000\" cx=\"79.1908\" cy=\"-192\" rx=\"39.7935\" ry=\"18\"/>\n<text text-anchor=\"middle\" x=\"79.1908\" y=\"-188.3\" font-family=\"Times,serif\" font-size=\"14.00\" fill=\"#000000\">Model</text>\n</g>\n<!-- CompiledModel -->\n<g id=\"node2\" class=\"node\">\n<title>CompiledModel</title>\n<ellipse fill=\"none\" stroke=\"#000000\" cx=\"139.1908\" cy=\"-105\" rx=\"83.6854\" ry=\"18\"/>\n<text text-anchor=\"middle\" x=\"139.1908\" y=\"-101.3\" font-family=\"Times,serif\" font-size=\"14.00\" fill=\"#000000\">CompiledModel</text>\n</g>\n<!-- Model&#45;&gt;CompiledModel -->\n<g id=\"edge1\" class=\"edge\">\n<title>Model&#45;&gt;CompiledModel</title>\n<path fill=\"none\" stroke=\"#0000ff\" d=\"M72.3547,-173.8582C69.6594,-163.5609 68.4094,-150.8109 74.1908,-141 77.5431,-135.3111 82.1536,-130.458 87.385,-126.3337\"/>\n<polygon fill=\"#0000ff\" stroke=\"#0000ff\" points=\"89.7382,-128.9652 96.0254,-120.4375 85.7925,-123.1832 89.7382,-128.9652\"/>\n<text text-anchor=\"middle\" x=\"133.1908\" y=\"-144.8\" font-family=\"Times,serif\" font-size=\"14.00\" fill=\"#000000\">compile_model()</text>\n</g>\n<!-- IR -->\n<g id=\"node3\" class=\"node\">\n<title>IR</title>\n<ellipse fill=\"none\" stroke=\"#000000\" cx=\"71.1908\" cy=\"-18\" rx=\"27\" ry=\"18\"/>\n<text text-anchor=\"middle\" x=\"71.1908\" y=\"-14.3\" font-family=\"Times,serif\" font-size=\"14.00\" fill=\"#000000\">IR</text>\n</g>\n<!-- CompiledModel&#45;&gt;IR -->\n<g id=\"edge2\" class=\"edge\">\n<title>CompiledModel&#45;&gt;IR</title>\n<path fill=\"none\" stroke=\"#ff0000\" d=\"M70.2869,-94.5619C41.5303,-88.6666 12.7989,-80.2045 4.1908,-69 -8.6674,-52.2637 14.2873,-38.1839 36.7501,-29.0873\"/>\n<polygon fill=\"#ff0000\" stroke=\"#ff0000\" points=\"38.124,-32.3098 46.2411,-25.5007 35.6495,-25.7617 38.124,-32.3098\"/>\n<text text-anchor=\"middle\" x=\"60.6908\" y=\"-57.8\" font-family=\"Times,serif\" font-size=\"14.00\" fill=\"#000000\">.export_model()</text>\n</g>\n<!-- Model(Runtime) -->\n<g id=\"node5\" class=\"node\">\n<title>Model(Runtime)</title>\n<ellipse fill=\"none\" stroke=\"#000000\" cx=\"272.1908\" cy=\"-18\" rx=\"85.5853\" ry=\"18\"/>\n<text text-anchor=\"middle\" x=\"272.1908\" y=\"-14.3\" font-family=\"Times,serif\" font-size=\"14.00\" fill=\"#000000\">Model(Runtime)</text>\n</g>\n<!-- CompiledModel&#45;&gt;Model(Runtime) -->\n<g id=\"edge6\" class=\"edge\">\n<title>CompiledModel&#45;&gt;Model(Runtime)</title>\n<path fill=\"none\" stroke=\"#ff0000\" d=\"M196.8754,-91.8097C212.0316,-86.4583 227.6339,-79.08 240.1908,-69 248.0924,-62.6569 254.5983,-53.805 259.6324,-45.2537\"/>\n<polygon fill=\"#ff0000\" stroke=\"#ff0000\" points=\"262.8364,-46.6868 264.5138,-36.2256 256.6788,-43.3575 262.8364,-46.6868\"/>\n<text text-anchor=\"middle\" x=\"330.1908\" y=\"-57.8\" font-family=\"Times,serif\" font-size=\"14.00\" fill=\"#000000\">.get_runtime_model()</text>\n</g>\n<!-- IR&#45;&gt;CompiledModel -->\n<g id=\"edge5\" class=\"edge\">\n<title>IR&#45;&gt;CompiledModel</title>\n<path fill=\"none\" stroke=\"#0000ff\" d=\"M91.4319,-30.4918C100.2359,-36.7057 110.1301,-44.8459 117.1908,-54 122.5501,-60.9483 126.8791,-69.401 130.2332,-77.4107\"/>\n<polygon fill=\"#0000ff\" stroke=\"#0000ff\" points=\"126.9965,-78.7458 133.8445,-86.83 133.5326,-76.2398 126.9965,-78.7458\"/>\n<text text-anchor=\"middle\" x=\"181.1908\" y=\"-57.8\" font-family=\"Times,serif\" font-size=\"14.00\" fill=\"#000000\">import_model()</text>\n</g>\n<!-- IR/ONNX/PDPD -->\n<g id=\"node4\" class=\"node\">\n<title>IR/ONNX/PDPD</title>\n<ellipse fill=\"none\" stroke=\"#000000\" cx=\"139.1908\" cy=\"-279\" rx=\"85.5853\" ry=\"18\"/>\n<text text-anchor=\"middle\" x=\"139.1908\" y=\"-275.3\" font-family=\"Times,serif\" font-size=\"14.00\" fill=\"#000000\">IR/ONNX/PDPD</text>\n</g>\n<!-- IR/ONNX/PDPD&#45;&gt;Model -->\n<g id=\"edge4\" class=\"edge\">\n<title>IR/ONNX/PDPD&#45;&gt;Model</title>\n<path fill=\"none\" stroke=\"#0000ff\" d=\"M115.0788,-261.3324C108.9575,-255.9714 102.8136,-249.7077 98.1908,-243 93.3651,-235.998 89.5842,-227.6159 86.7098,-219.6895\"/>\n<polygon fill=\"#0000ff\" stroke=\"#0000ff\" points=\"89.9846,-218.4432 83.5434,-210.0312 83.3329,-220.624 89.9846,-218.4432\"/>\n<text text-anchor=\"middle\" x=\"145.1908\" y=\"-231.8\" font-family=\"Times,serif\" font-size=\"14.00\" fill=\"#000000\">read_model()</text>\n</g>\n<!-- IR/ONNX/PDPD&#45;&gt;CompiledModel -->\n<g id=\"edge3\" class=\"edge\">\n<title>IR/ONNX/PDPD&#45;&gt;CompiledModel</title>\n<path fill=\"none\" stroke=\"#0000ff\" d=\"M173.9926,-262.5003C181.2883,-257.3284 188.0259,-250.8638 192.1908,-243 213.4084,-202.9385 213.4084,-181.0615 192.1908,-141 189.5877,-136.0851 185.9797,-131.7168 181.8585,-127.8691\"/>\n<polygon fill=\"#0000ff\" stroke=\"#0000ff\" points=\"183.9668,-125.0727 173.9926,-121.4997 179.5617,-130.5128 183.9668,-125.0727\"/>\n<text text-anchor=\"middle\" x=\"266.1908\" y=\"-188.3\" font-family=\"Times,serif\" font-size=\"14.00\" fill=\"#000000\">compile_model()</text>\n</g>\n</g>\n</svg>\n",
      "text/plain": [
       "<graphviz.files.Source at 0x7f5d21cb6c18>"
      ]
     },
     "execution_count": 7,
     "metadata": {},
     "output_type": "execute_result"
    }
   ],
   "source": [
    "g = Digraph(\"openvino models relationship\")\n",
    "g.node(name='Model')\n",
    "g.node(name='CompiledModel')\n",
    "g.node(name='IR')\n",
    "g.node(name='IR/ONNX/PDPD')\n",
    "g.node(name='Model(Runtime)')\n",
    "\n",
    "g.edge('Model','CompiledModel',label='compile_model()', color='blue')\n",
    "g.edge('CompiledModel','IR',label='.export_model()', color='red')\n",
    "g.edge('IR/ONNX/PDPD','CompiledModel',label='compile_model()', color='blue')\n",
    "g.edge('IR/ONNX/PDPD','Model',label='read_model()', color='blue')\n",
    "g.edge('IR','CompiledModel',label='import_model()', color='blue')\n",
    "g.edge('CompiledModel','Model(Runtime)',label='.get_runtime_model()', color='red')\n",
    "\n",
    "Source(g, format=\"svg\")"
   ]
  },
  {
   "cell_type": "markdown",
   "metadata": {},
   "source": [
    "# Inference\n",
    "\n",
    " - src/bindings/python/src/pyopenvino/core/compiled_model.cpp"
   ]
  },
  {
   "cell_type": "markdown",
   "metadata": {},
   "source": [
    "### check input/output information of the model\n",
    "\n",
    " - src/bindings/python/src/pyopenvino/graph/node_output.hpp"
   ]
  },
  {
   "cell_type": "code",
   "execution_count": 8,
   "metadata": {},
   "outputs": [
    {
     "name": "stdout",
     "output_type": "stream",
     "text": [
      "inputs[0]: <ConstOutput: names[Parameter_0] shape{2,3,7,7} type: f32>\n",
      "outputs[0]: <ConstOutput: names[] shape{8} type: f32>\n"
     ]
    }
   ],
   "source": [
    "# check inputs & outputs (they are actually graph op)\n",
    "# these are `ov::Output<const ov::Node>` type internally\n",
    "for k, input in enumerate(compiled_model.inputs):\n",
    "    print(\"inputs[{}]: {}\".format(k,input))\n",
    "for k, output in enumerate(compiled_model.outputs):\n",
    "    print(\"outputs[{}]: {}\".format(k,output))"
   ]
  },
  {
   "cell_type": "markdown",
   "metadata": {},
   "source": [
    "### Synchronously:  CompiledModel.infer_new_request()\n",
    "\n",
    "Steps:\n",
    " - Create input `ov.Tensor`: src/bindings/python/src/pyopenvino/core/tensor.\n",
    " - Feed data into tensor\n",
    " - invoke `infer_new_request()`\n",
    "\n",
    " This is low-performance API"
   ]
  },
  {
   "cell_type": "code",
   "execution_count": 9,
   "metadata": {},
   "outputs": [
    {
     "name": "stdout",
     "output_type": "stream",
     "text": [
      "{<ConstOutput: names[] shape{8} type: f32>: array([3., 3., 3., 3., 6., 6., 6., 6.], dtype=float32)}\n"
     ]
    }
   ],
   "source": [
    "# get output description of the model\n",
    "inode = compiled_model.input(0)\n",
    "\n",
    "# numpy array can also be input of infer_new_request()\n",
    "# but Tensor is best since it understands element_type while numpy don't\n",
    "input = ov.Tensor(inode.get_element_type(), inode.get_shape())\n",
    "\n",
    "# the data member is numpy array wrapper of the tensor\n",
    "# so we can manipulate data using numpy\n",
    "input.data[0,:,:,:] = 1\n",
    "input.data[1,:,:,:] = 2\n",
    "\n",
    "# infer_new_request is synchronous API\n",
    "# the key in input dict can be int/string/opNode\n",
    "param_name = list(compiled_model.input(0).names)[0]\n",
    "result = compiled_model.infer_new_request({0:input})\n",
    "result = compiled_model.infer_new_request({param_name:input})\n",
    "result = compiled_model.infer_new_request({compiled_model.input(0):input})\n",
    "\n",
    "print(result)"
   ]
  },
  {
   "cell_type": "markdown",
   "metadata": {},
   "source": [
    "### Asynchronously:  infer_request/async_infer_queue\n",
    "\n",
    " - src/inference/src/cpp/ie_infer_request.cpp\n",
    " - src/bindings/python/src/pyopenvino/core/infer_request.cpp\n",
    " - src/bindings/python/src/pyopenvino/core/async_infer_queue.cpp\n",
    "\n",
    "This concept of infer_request is important:\n",
    " - it has input/output memory allocated by default, user can get a tensor wrapper around them and accessing the memory directly using:\n",
    "    - `get_input_tensor/get_output_tensor`: indexed by port number\n",
    "    - `get_tensor`: indexed by name/port_description/    (internal API: GetBlob)\n",
    " - it also allows users to provide their own memory as desired input/output location:\n",
    "   - `set_input_tensor/set_output_tensor`: indexed by port number\n",
    "   - `set_tensor`: indexed by name/port_description/     (internal API: SetBlob)\n",
    " - it can be triggered in both sync/async way(with optional new input tensor provided), and set call back:\n",
    "   - `start_async`: async\n",
    "   - `infer`:   sync\n",
    " - it tracks latest latency internally:\n",
    "   - `latency`: property\n",
    " - it provides profiling information for each layer:\n",
    "   - `profiling_info`: property (internal API: GetPerformanceCounts)\n"
   ]
  },
  {
   "cell_type": "code",
   "execution_count": 10,
   "metadata": {},
   "outputs": [
    {
     "name": "stdout",
     "output_type": "stream",
     "text": [
      "callback received output tensor:[24. 24. 24. 24. 24. 24. 24. 24.]\n",
      "callback received output tensor:[3. 3. 3. 3. 3. 3. 3. 3.]\n",
      "callback received output tensor:[6. 6. 6. 6. 6. 6. 6. 6.]\n",
      "{<ConstOutput: names[] shape{8} type: f32>: array([9., 9., 9., 9., 9., 9., 9., 9.], dtype=float32)}\n",
      "[9. 9. 9. 9. 9. 9. 9. 9.]\n",
      "latency:0.261747 sec\n"
     ]
    },
    {
     "data": {
      "text/html": [
       "<div>\n",
       "<style scoped>\n",
       "    .dataframe tbody tr th:only-of-type {\n",
       "        vertical-align: middle;\n",
       "    }\n",
       "\n",
       "    .dataframe tbody tr th {\n",
       "        vertical-align: top;\n",
       "    }\n",
       "\n",
       "    .dataframe thead th {\n",
       "        text-align: right;\n",
       "    }\n",
       "</style>\n",
       "<table border=\"1\" class=\"dataframe\">\n",
       "  <thead>\n",
       "    <tr style=\"text-align: right;\">\n",
       "      <th></th>\n",
       "      <th>node_name</th>\n",
       "      <th>node_type</th>\n",
       "      <th>exec_type</th>\n",
       "      <th>status</th>\n",
       "      <th>real_time(us)</th>\n",
       "      <th>cpu_time(us)</th>\n",
       "    </tr>\n",
       "  </thead>\n",
       "  <tbody>\n",
       "    <tr>\n",
       "      <th>0</th>\n",
       "      <td>Parameter_0</td>\n",
       "      <td>Parameter</td>\n",
       "      <td>unknown_FP32</td>\n",
       "      <td>Status.NOT_RUN</td>\n",
       "      <td>0.0</td>\n",
       "      <td>0.0</td>\n",
       "    </tr>\n",
       "    <tr>\n",
       "      <th>1</th>\n",
       "      <td>Convolution_2</td>\n",
       "      <td>Convolution</td>\n",
       "      <td>jit_avx2_FP32</td>\n",
       "      <td>Status.EXECUTED</td>\n",
       "      <td>53.0</td>\n",
       "      <td>53.0</td>\n",
       "    </tr>\n",
       "    <tr>\n",
       "      <th>2</th>\n",
       "      <td>Relu_4</td>\n",
       "      <td>Relu</td>\n",
       "      <td>undef</td>\n",
       "      <td>Status.NOT_RUN</td>\n",
       "      <td>0.0</td>\n",
       "      <td>0.0</td>\n",
       "    </tr>\n",
       "    <tr>\n",
       "      <th>3</th>\n",
       "      <td>Convolution_2_aBcd8b_abcd_MaxPool_3</td>\n",
       "      <td>Reorder</td>\n",
       "      <td>ref_any_FP32</td>\n",
       "      <td>Status.EXECUTED</td>\n",
       "      <td>192.0</td>\n",
       "      <td>192.0</td>\n",
       "    </tr>\n",
       "    <tr>\n",
       "      <th>4</th>\n",
       "      <td>MaxPool_3</td>\n",
       "      <td>MaxPool</td>\n",
       "      <td>ref_any_FP32</td>\n",
       "      <td>Status.EXECUTED</td>\n",
       "      <td>24.0</td>\n",
       "      <td>24.0</td>\n",
       "    </tr>\n",
       "    <tr>\n",
       "      <th>5</th>\n",
       "      <td>Reshape_6</td>\n",
       "      <td>Reshape</td>\n",
       "      <td>unknown_FP32</td>\n",
       "      <td>Status.NOT_RUN</td>\n",
       "      <td>0.0</td>\n",
       "      <td>0.0</td>\n",
       "    </tr>\n",
       "    <tr>\n",
       "      <th>6</th>\n",
       "      <td>Result_12</td>\n",
       "      <td>Result</td>\n",
       "      <td>unknown_FP32</td>\n",
       "      <td>Status.NOT_RUN</td>\n",
       "      <td>0.0</td>\n",
       "      <td>0.0</td>\n",
       "    </tr>\n",
       "  </tbody>\n",
       "</table>\n",
       "</div>"
      ],
      "text/plain": [
       "                             node_name    node_type      exec_type  \\\n",
       "0                          Parameter_0    Parameter   unknown_FP32   \n",
       "1                        Convolution_2  Convolution  jit_avx2_FP32   \n",
       "2                               Relu_4         Relu          undef   \n",
       "3  Convolution_2_aBcd8b_abcd_MaxPool_3      Reorder   ref_any_FP32   \n",
       "4                            MaxPool_3      MaxPool   ref_any_FP32   \n",
       "5                            Reshape_6      Reshape   unknown_FP32   \n",
       "6                            Result_12       Result   unknown_FP32   \n",
       "\n",
       "            status  real_time(us)  cpu_time(us)  \n",
       "0   Status.NOT_RUN            0.0           0.0  \n",
       "1  Status.EXECUTED           53.0          53.0  \n",
       "2   Status.NOT_RUN            0.0           0.0  \n",
       "3  Status.EXECUTED          192.0         192.0  \n",
       "4  Status.EXECUTED           24.0          24.0  \n",
       "5   Status.NOT_RUN            0.0           0.0  \n",
       "6   Status.NOT_RUN            0.0           0.0  "
      ]
     },
     "execution_count": 10,
     "metadata": {},
     "output_type": "execute_result"
    }
   ],
   "source": [
    "infer_request = compiled_model.create_infer_request()\n",
    "def callback1(irq):\n",
    "    print(\"callback received output tensor:{}\".format(irq.get_output_tensor(0).data))\n",
    "\n",
    "infer_request.set_callback(callback1, infer_request)\n",
    "\n",
    "# use input/output memory provided by infer_request\n",
    "itensor = infer_request.get_input_tensor(0)\n",
    "otensor = infer_request.get_output_tensor(0)\n",
    "\n",
    "itensor.data[:] = 8\n",
    "infer_request.start_async()\n",
    "infer_request.wait()\n",
    "\n",
    "# use numpy array allocated by user as input\n",
    "infer_request.set_input_tensor(0, ov.Tensor(np.ones(compiled_model.input(0).get_shape(), dtype=np.float32)))\n",
    "infer_request.start_async()\n",
    "infer_request.wait()\n",
    "\n",
    "# start_async calls set_input_tensor() internally\n",
    "infer_request.start_async({0:2*np.ones(compiled_model.input(0).get_shape(), dtype=np.float32)})\n",
    "infer_request.wait()\n",
    "\n",
    "# infer returns result dict w/o invoking callback\n",
    "output = infer_request.infer({0:3*np.ones(compiled_model.input(0).get_shape(), dtype=np.float32)})\n",
    "print(output)\n",
    "\n",
    "# infer_request keeps using the same original output tensor for all infer/start_async\n",
    "print(otensor.data)\n",
    "\n",
    "print(\"latency:{} sec\".format(infer_request.latency))\n",
    "\n",
    "profdata = []\n",
    "for pro in infer_request.profiling_info:\n",
    "    profdata.append([pro.node_name, pro.node_type, pro.exec_type, pro.status, pro.real_time.total_seconds()*1e6, pro.cpu_time.total_seconds()*1e6])\n",
    "df = DataFrame(profdata)\n",
    "df.columns=[\"node_name\",\"node_type\",\"exec_type\",\"status\",\"real_time(us)\",\"cpu_time(us)\"]\n",
    "df"
   ]
  },
  {
   "cell_type": "markdown",
   "metadata": {},
   "source": [
    "The profiling_info API provides us a insight into the execution, this information is also included in exported model."
   ]
  },
  {
   "cell_type": "markdown",
   "metadata": {},
   "source": [
    "AsyncInferQueue is a convenient infer_request pool implementation that more friendly to write performance python inference applications."
   ]
  },
  {
   "cell_type": "code",
   "execution_count": 11,
   "metadata": {},
   "outputs": [
    {
     "name": "stdout",
     "output_type": "stream",
     "text": [
      "num_request=1 time_used=0.2575244903564453 sec\n",
      "num_request=16 time_used=0.11899876594543457 sec\n"
     ]
    }
   ],
   "source": [
    "def test_infer_queue(num_request, num_infer):\n",
    "    infer_queue = ov.AsyncInferQueue(compiled_model, num_request)\n",
    "\n",
    "    def callback(request, userdata):\n",
    "        id = userdata\n",
    "\n",
    "        #print(\"infer for id={}\".format(id))\n",
    "        #for k, tensor in enumerate(request.outputs):\n",
    "        #    print(\"  output[{}]:  {} {}\".format(k, tensor, tensor.data))\n",
    "\n",
    "    infer_queue.set_callback(callback)\n",
    "\n",
    "    for i in range(num_infer):\n",
    "        input = ov.Tensor(inode.get_element_type(), inode.get_shape())\n",
    "        input.data[:] = i\n",
    "        infer_queue.start_async({0: input}, userdata=i)\n",
    "\n",
    "    infer_queue.wait_all()\n",
    "\n",
    "for num_request in [1,16]:\n",
    "    t0 = time.time()\n",
    "    test_infer_queue(num_request, 1000)\n",
    "    print(\"num_request={} time_used={} sec\".format(num_request, time.time() - t0))"
   ]
  },
  {
   "cell_type": "markdown",
   "metadata": {},
   "source": [
    "#  Unsolved Questions\n",
    "\n",
    "Python API is good for beginers to learn, especially interactively in Jupyter notebook, but in production we still use C++ API, the good news is they are highly consistent.\n",
    "\n",
    "Python API is also good for experiment with reproducible documentation, so it's absolutely good idea to investigate problem with it."
   ]
  }
 ],
 "metadata": {
  "interpreter": {
   "hash": "31f2aee4e71d21fbe5cf8b01ff0e069b9275f58929596ceb00d14d90e3e16cd6"
  },
  "kernelspec": {
   "display_name": "Python 3.6.9 64-bit",
   "language": "python",
   "name": "python3"
  },
  "language_info": {
   "codemirror_mode": {
    "name": "ipython",
    "version": 3
   },
   "file_extension": ".py",
   "mimetype": "text/x-python",
   "name": "python",
   "nbconvert_exporter": "python",
   "pygments_lexer": "ipython3",
   "version": "3.6.9"
  },
  "orig_nbformat": 4
 },
 "nbformat": 4,
 "nbformat_minor": 2
}
